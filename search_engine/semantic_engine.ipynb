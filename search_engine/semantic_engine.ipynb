{
 "cells": [
  {
   "cell_type": "code",
   "execution_count": 1,
   "metadata": {},
   "outputs": [],
   "source": [
    "import pandas as pd"
   ]
  },
  {
   "cell_type": "code",
   "execution_count": 2,
   "metadata": {},
   "outputs": [],
   "source": [
    "df = pd.read_csv(\"/mnt/d/projects/large_projects/CricketSemantics/cricket_data_scrapper/cricket_data.csv\")"
   ]
  },
  {
   "cell_type": "code",
   "execution_count": 3,
   "metadata": {},
   "outputs": [
    {
     "data": {
      "text/html": [
       "<div>\n",
       "<style scoped>\n",
       "    .dataframe tbody tr th:only-of-type {\n",
       "        vertical-align: middle;\n",
       "    }\n",
       "\n",
       "    .dataframe tbody tr th {\n",
       "        vertical-align: top;\n",
       "    }\n",
       "\n",
       "    .dataframe thead th {\n",
       "        text-align: right;\n",
       "    }\n",
       "</style>\n",
       "<table border=\"1\" class=\"dataframe\">\n",
       "  <thead>\n",
       "    <tr style=\"text-align: right;\">\n",
       "      <th></th>\n",
       "      <th>match</th>\n",
       "      <th>ball</th>\n",
       "      <th>commentry</th>\n",
       "    </tr>\n",
       "  </thead>\n",
       "  <tbody>\n",
       "    <tr>\n",
       "      <th>0</th>\n",
       "      <td>ENGLAND vs NEW ZEALAND</td>\n",
       "      <td>36.2</td>\n",
       "      <td>36.2 Moeen Ali to Ravindra, 1 run, clipped awa...</td>\n",
       "    </tr>\n",
       "    <tr>\n",
       "      <th>1</th>\n",
       "      <td>ENGLAND vs NEW ZEALAND</td>\n",
       "      <td>36.1</td>\n",
       "      <td>36.1 Moeen Ali to Conway, 1 run, shortish deli...</td>\n",
       "    </tr>\n",
       "    <tr>\n",
       "      <th>2</th>\n",
       "      <td>ENGLAND vs NEW ZEALAND</td>\n",
       "      <td>35.6</td>\n",
       "      <td>35.6 Livingstone to Ravindra, FOUR, short and ...</td>\n",
       "    </tr>\n",
       "    <tr>\n",
       "      <th>3</th>\n",
       "      <td>BANGLADESH vs AFGHANISTAN</td>\n",
       "      <td>34.4</td>\n",
       "      <td>34.4Naveen-ul-Haq to Shanto, FOUR, Shanto hits...</td>\n",
       "    </tr>\n",
       "    <tr>\n",
       "      <th>4</th>\n",
       "      <td>ENGLAND vs NEW ZEALAND</td>\n",
       "      <td>35.5</td>\n",
       "      <td>35.5 Livingstone to Conway, 1 run, misfield at...</td>\n",
       "    </tr>\n",
       "    <tr>\n",
       "      <th>...</th>\n",
       "      <td>...</td>\n",
       "      <td>...</td>\n",
       "      <td>...</td>\n",
       "    </tr>\n",
       "    <tr>\n",
       "      <th>26116</th>\n",
       "      <td>AUSTRALIA vs NEW ZEALAND</td>\n",
       "      <td>0.5</td>\n",
       "      <td>0.5 Matt Henry to Warner, FOUR, now Warner hop...</td>\n",
       "    </tr>\n",
       "    <tr>\n",
       "      <th>26117</th>\n",
       "      <td>AUSTRALIA vs NEW ZEALAND</td>\n",
       "      <td>0.4</td>\n",
       "      <td>0.4 Matt Henry to Warner, no run, short of len...</td>\n",
       "    </tr>\n",
       "    <tr>\n",
       "      <th>26118</th>\n",
       "      <td>AUSTRALIA vs NEW ZEALAND</td>\n",
       "      <td>0.3</td>\n",
       "      <td>0.3 Matt Henry to Warner, FOUR, width and cut ...</td>\n",
       "    </tr>\n",
       "    <tr>\n",
       "      <th>26119</th>\n",
       "      <td>AUSTRALIA vs NEW ZEALAND</td>\n",
       "      <td>0.2</td>\n",
       "      <td>0.2 Matt Henry to Warner, no run, bit of bounc...</td>\n",
       "    </tr>\n",
       "    <tr>\n",
       "      <th>26120</th>\n",
       "      <td>AUSTRALIA vs NEW ZEALAND</td>\n",
       "      <td>0.1</td>\n",
       "      <td>0.1 Matt Henry to Warner, no run, good length ...</td>\n",
       "    </tr>\n",
       "  </tbody>\n",
       "</table>\n",
       "<p>26121 rows × 3 columns</p>\n",
       "</div>"
      ],
      "text/plain": [
       "                           match  ball  \\\n",
       "0         ENGLAND vs NEW ZEALAND  36.2   \n",
       "1         ENGLAND vs NEW ZEALAND  36.1   \n",
       "2         ENGLAND vs NEW ZEALAND  35.6   \n",
       "3      BANGLADESH vs AFGHANISTAN  34.4   \n",
       "4         ENGLAND vs NEW ZEALAND  35.5   \n",
       "...                          ...   ...   \n",
       "26116   AUSTRALIA vs NEW ZEALAND   0.5   \n",
       "26117   AUSTRALIA vs NEW ZEALAND   0.4   \n",
       "26118   AUSTRALIA vs NEW ZEALAND   0.3   \n",
       "26119   AUSTRALIA vs NEW ZEALAND   0.2   \n",
       "26120   AUSTRALIA vs NEW ZEALAND   0.1   \n",
       "\n",
       "                                               commentry  \n",
       "0      36.2 Moeen Ali to Ravindra, 1 run, clipped awa...  \n",
       "1      36.1 Moeen Ali to Conway, 1 run, shortish deli...  \n",
       "2      35.6 Livingstone to Ravindra, FOUR, short and ...  \n",
       "3      34.4Naveen-ul-Haq to Shanto, FOUR, Shanto hits...  \n",
       "4      35.5 Livingstone to Conway, 1 run, misfield at...  \n",
       "...                                                  ...  \n",
       "26116  0.5 Matt Henry to Warner, FOUR, now Warner hop...  \n",
       "26117  0.4 Matt Henry to Warner, no run, short of len...  \n",
       "26118  0.3 Matt Henry to Warner, FOUR, width and cut ...  \n",
       "26119  0.2 Matt Henry to Warner, no run, bit of bounc...  \n",
       "26120  0.1 Matt Henry to Warner, no run, good length ...  \n",
       "\n",
       "[26121 rows x 3 columns]"
      ]
     },
     "execution_count": 3,
     "metadata": {},
     "output_type": "execute_result"
    }
   ],
   "source": [
    "df"
   ]
  },
  {
   "cell_type": "code",
   "execution_count": 4,
   "metadata": {},
   "outputs": [],
   "source": [
    "texts = df['commentry'].tolist()"
   ]
  },
  {
   "cell_type": "code",
   "execution_count": 5,
   "metadata": {},
   "outputs": [
    {
     "data": {
      "text/plain": [
       "26121"
      ]
     },
     "execution_count": 5,
     "metadata": {},
     "output_type": "execute_result"
    }
   ],
   "source": [
    "len(texts)"
   ]
  },
  {
   "cell_type": "code",
   "execution_count": 6,
   "metadata": {},
   "outputs": [
    {
     "name": "stderr",
     "output_type": "stream",
     "text": [
      "/home/arjunrao/.local/lib/python3.10/site-packages/tqdm/auto.py:21: TqdmWarning: IProgress not found. Please update jupyter and ipywidgets. See https://ipywidgets.readthedocs.io/en/stable/user_install.html\n",
      "  from .autonotebook import tqdm as notebook_tqdm\n"
     ]
    }
   ],
   "source": [
    "from sentence_transformers import SentenceTransformer\n",
    "\n",
    "text = df['commentry']\n",
    "encoder = SentenceTransformer('multi-qa-mpnet-base-dot-v1')\n",
    "vector = encoder.encode(text)"
   ]
  },
  {
   "cell_type": "code",
   "execution_count": 7,
   "metadata": {},
   "outputs": [
    {
     "name": "stdout",
     "output_type": "stream",
     "text": [
      "[[-0.3069382  -0.49472904 -0.28060228 ...  0.03433657 -0.04910103\n",
      "  -0.22666326]\n",
      " [-0.34834692 -0.8107878  -0.24893562 ...  0.12750685 -0.14558958\n",
      "  -0.17948112]\n",
      " [-0.11351443 -0.6346422  -0.24114348 ...  0.13689336 -0.27959332\n",
      "  -0.2406624 ]\n",
      " ...\n",
      " [ 0.11461562 -0.80141824 -0.17872243 ... -0.01341299  0.38732326\n",
      "  -0.10957686]\n",
      " [-0.09158109 -0.51889133 -0.17674406 ...  0.0463693   0.21876432\n",
      "  -0.0465444 ]\n",
      " [-0.15903863 -0.72816944 -0.27062908 ...  0.03926188 -0.02273992\n",
      "  -0.1073662 ]]\n"
     ]
    }
   ],
   "source": [
    "print(vector)"
   ]
  },
  {
   "cell_type": "code",
   "execution_count": 8,
   "metadata": {},
   "outputs": [
    {
     "data": {
      "text/plain": [
       "26121"
      ]
     },
     "execution_count": 8,
     "metadata": {},
     "output_type": "execute_result"
    }
   ],
   "source": [
    "len(vector)"
   ]
  },
  {
   "cell_type": "code",
   "execution_count": 9,
   "metadata": {},
   "outputs": [
    {
     "data": {
      "text/plain": [
       "768"
      ]
     },
     "execution_count": 9,
     "metadata": {},
     "output_type": "execute_result"
    }
   ],
   "source": [
    "vector.shape[1]"
   ]
  },
  {
   "cell_type": "code",
   "execution_count": 10,
   "metadata": {},
   "outputs": [],
   "source": [
    "import faiss\n",
    "from faiss import write_index, read_index\n",
    "\n",
    "vector_dimention = vector.shape[1]\n",
    "index = faiss.IndexFlatL2(vector_dimention)\n",
    "faiss.normalize_L2(vector)\n",
    "index.add(vector)\n",
    "\n",
    "write_index(index,\"cricketSemanticSearch.index\")\n",
    "\n"
   ]
  },
  {
   "cell_type": "code",
   "execution_count": 11,
   "metadata": {},
   "outputs": [],
   "source": [
    "import numpy as np\n",
    "import pandas as pd\n",
    "from icecream import ic\n",
    "import faiss\n",
    "from faiss import read_index\n",
    "from sentence_transformers import SentenceTransformer\n",
    "encoder = SentenceTransformer('multi-qa-mpnet-base-dot-v1')\n",
    "index = read_index(\"cricketSemanticSearch.index\")\n",
    "df = pd.read_csv(\"/mnt/d/projects/large_projects/CricketSemantics/cricket_data_scrapper/cricket_data.csv\")\n",
    "\n",
    "def search(text):\n",
    "    search_text = text\n",
    "    search_vector = encoder.encode(search_text)\n",
    "    _vector = np.array([search_vector])\n",
    "    faiss.normalize_L2(_vector)\n",
    "    k = index.ntotal\n",
    "    ic(k)\n",
    "    distances,ann = index.search(_vector,k=k)\n",
    "    ic(distances)\n",
    "    ic(ann[0][0:5])\n",
    "\n",
    "    for x in ann[0][0:5]:\n",
    "        ic(df.iloc[x]['commentry'])\n",
    "\n",
    "    results = pd.DataFrame({'distances': distances[0], 'ann': ann[0]})"
   ]
  },
  {
   "cell_type": "code",
   "execution_count": 12,
   "metadata": {},
   "outputs": [
    {
     "name": "stderr",
     "output_type": "stream",
     "text": [
      "ic| k: 26121\n",
      "ic| distances: array([[0.67458737, 0.7261881 , 0.7711846 , ..., 1.6805038 , 1.6860095 ,\n",
      "                       1.6921207 ]], dtype=float32)\n",
      "ic| ann[0][0:5]: array([  206, 25072, 15866,   292,    64])\n",
      "ic| df.iloc[x]['commentry']: (\"45.2 Chameera to Azmatullah, 1 run, that's it. Asalanka drops a sitter at \"\n",
      "                              'deep square and that will do for Afghanistan. It was slogged high into the '\n",
      "                              'night sky and went straight towards the fielder in the deep, Asalanka ran '\n",
      "                              \"forward but couldn't gather it cleanly. Afghanistan win by 7 wickets and \"\n",
      "                              'move to 5th slot. This is their 3rd win in 4 games')\n",
      "ic| df.iloc[x]['commentry']: (\"7.6 Hazlewood to Gurbaz, out Caught by Starc!! Oh that's really loose from \"\n",
      "                              \"Gurbaz. He's thrown it away he's the first one to be gutted about it. This \"\n",
      "                              'was a harmless short of length delivery that could have been milked for '\n",
      "                              \"runs. Gurbaz plays a guide-pull that really didn't have great intention. For \"\n",
      "                              \"some reason he didn't go through full with the shot and ended up finding \"\n",
      "                              'deep backward square leg to perfection. So both teams played the patience '\n",
      "                              'game and Afghanistan have blinked first. These two openers were determined '\n",
      "                              'to give a good start. Gurbaz c Starc b Hazlewood 21(25) [4s-2]')\n",
      "ic| df.iloc[x]['commentry']: ('14.2 Mehidy Hasan Miraz to Gurbaz, 5 wides, bonus runs. Fired down the '\n",
      "                              'leg-side by Mehidy Hasan Miraz and the batter misses out on his glance. The '\n",
      "                              'keeper makes a mess of it by failing to gather it, and those are five bonus '\n",
      "                              'runs for Afghanistan')\n",
      "ic| df.iloc[x]['commentry']: ('48.6Shaheen Afridi to Shahidi, FOUR, full toss and a shuffling Shahidi whips '\n",
      "                              'it away over square leg. Captain Shahidi removes his helmet and roars. '\n",
      "                              'Rahmat, meanwhile, is calm as ever - looks heavenwards. A historic win for '\n",
      "                              'Awesome Afghanistan!')\n",
      "ic| df.iloc[x]['commentry']: (\"40.3 Rashid Khan to Mark Wood, out Bowled!! It's all over and who other than \"\n",
      "                              'Rashid Khan to hand Afghanistan a famous win! Flatter delivery on middle, '\n",
      "                              'Mark Wood cleared his front-leg and went for a big swipe across the line, he '\n",
      "                              'missed and the ball crashed into the stumps. Afghanistan are jubilant but '\n",
      "                              \"not overly so, they realize it's a big win but there's a long road ahead and \"\n",
      "                              'by the looks of it, they have their sights set on a bigger prize. Mark Wood '\n",
      "                              'b Rashid Khan 18(22) [4s-3]')\n"
     ]
    }
   ],
   "source": [
    "search(\"afghanistan win this game\")"
   ]
  },
  {
   "cell_type": "code",
   "execution_count": 20,
   "metadata": {},
   "outputs": [
    {
     "data": {
      "text/plain": [
       "match                              NEW ZEALAND vs SOUTH AFRICA\n",
       "ball                                                      34.3\n",
       "commentry    34.3 Maharaj to Glenn Phillips, FOUR, fifty fo...\n",
       "Name: 300, dtype: object"
      ]
     },
     "execution_count": 20,
     "metadata": {},
     "output_type": "execute_result"
    }
   ],
   "source": []
  },
  {
   "cell_type": "code",
   "execution_count": null,
   "metadata": {},
   "outputs": [],
   "source": []
  }
 ],
 "metadata": {
  "kernelspec": {
   "display_name": "Python 3",
   "language": "python",
   "name": "python3"
  },
  "language_info": {
   "codemirror_mode": {
    "name": "ipython",
    "version": 3
   },
   "file_extension": ".py",
   "mimetype": "text/x-python",
   "name": "python",
   "nbconvert_exporter": "python",
   "pygments_lexer": "ipython3",
   "version": "3.10.12"
  }
 },
 "nbformat": 4,
 "nbformat_minor": 2
}
